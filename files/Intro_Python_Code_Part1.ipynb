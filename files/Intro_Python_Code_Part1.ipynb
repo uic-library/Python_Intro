{
 "cells": [
  {
   "cell_type": "markdown",
   "metadata": {},
   "source": [
    "# Introduction to Python Workshop"
   ]
  },
  {
   "cell_type": "markdown",
   "metadata": {},
   "source": [
    "## __Variables__"
   ]
  },
  {
   "cell_type": "code",
   "execution_count": 3,
   "metadata": {},
   "outputs": [
    {
     "name": "stdout",
     "output_type": "stream",
     "text": [
      "5\n",
      "Recipe for pancakes\n"
     ]
    }
   ],
   "source": [
    "name = \"Recipe for pancakes\"\n",
    "no_of_ingredients = 5\n",
    "print(no_of_ingredients)\n",
    "print(name)"
   ]
  },
  {
   "cell_type": "markdown",
   "metadata": {},
   "source": [
    "### Reassignment of Variables"
   ]
  },
  {
   "cell_type": "code",
   "execution_count": 4,
   "metadata": {},
   "outputs": [
    {
     "name": "stdout",
     "output_type": "stream",
     "text": [
      "Recipe for pancakes\n",
      "5\n"
     ]
    }
   ],
   "source": [
    "no_of_ingredients = \"Recipe for pancakes\"    # no_of_ingredients is now of type string\n",
    "name = 5                       # name is now of type int\n",
    "print(no_of_ingredients)\n",
    "print(name)"
   ]
  },
  {
   "cell_type": "markdown",
   "metadata": {},
   "source": [
    "## Data Types"
   ]
  },
  {
   "cell_type": "markdown",
   "metadata": {},
   "source": [
    "Python has the following data types built-in by default, in these categories:\n",
    "\n",
    "Numeric Types: int, float, complex\n",
    "\n",
    "Sequence Types: list, tuple, strings\n",
    "\n",
    "Mapping Type: dict\n",
    "\n",
    "Set Types: set\n",
    "\n",
    "Boolean Type: bool"
   ]
  },
  {
   "cell_type": "markdown",
   "metadata": {},
   "source": [
    "### Numeric Data Types"
   ]
  },
  {
   "cell_type": "code",
   "execution_count": 5,
   "metadata": {},
   "outputs": [
    {
     "name": "stdout",
     "output_type": "stream",
     "text": [
      "3.0\n",
      "4.0\n"
     ]
    }
   ],
   "source": [
    "x=3 # int datatype\n",
    "y=3.14 #float datatypes\n",
    "z=complex(3,4) #complex datatype\n",
    "print(z.real) # real part of the complex number\n",
    "print(z.imag) #imaginary part of the complex number"
   ]
  },
  {
   "cell_type": "markdown",
   "metadata": {},
   "source": [
    "### Boolean Type"
   ]
  },
  {
   "cell_type": "code",
   "execution_count": 6,
   "metadata": {},
   "outputs": [
    {
     "name": "stdout",
     "output_type": "stream",
     "text": [
      "True\n"
     ]
    }
   ],
   "source": [
    "x= True\n",
    "y= False\n",
    "print(x)\n"
   ]
  },
  {
   "cell_type": "markdown",
   "metadata": {},
   "source": [
    "### Find the data type of a variable"
   ]
  },
  {
   "cell_type": "code",
   "execution_count": 7,
   "metadata": {},
   "outputs": [
    {
     "data": {
      "text/plain": [
       "str"
      ]
     },
     "execution_count": 7,
     "metadata": {},
     "output_type": "execute_result"
    }
   ],
   "source": [
    "x=\"Digital Scholorship Hub\"\n",
    "type(x)"
   ]
  },
  {
   "cell_type": "markdown",
   "metadata": {},
   "source": [
    "### Type-Casting"
   ]
  },
  {
   "cell_type": "code",
   "execution_count": 8,
   "metadata": {},
   "outputs": [
    {
     "name": "stdout",
     "output_type": "stream",
     "text": [
      "<class 'str'>\n",
      "<class 'int'>\n",
      "<class 'float'>\n"
     ]
    }
   ],
   "source": [
    "a=str(13456)\n",
    "print(type(a))\n",
    "b=int(\"1234\")\n",
    "print(type(b))\n",
    "c=float(55)\n",
    "print(type(c))"
   ]
  },
  {
   "cell_type": "markdown",
   "metadata": {},
   "source": [
    "## Operators"
   ]
  },
  {
   "cell_type": "markdown",
   "metadata": {},
   "source": [
    "### Arithmetic Operators"
   ]
  },
  {
   "cell_type": "code",
   "execution_count": 9,
   "metadata": {},
   "outputs": [
    {
     "name": "stdout",
     "output_type": "stream",
     "text": [
      "7\n",
      "-1\n",
      "12\n",
      "0.75\n",
      "81\n",
      "0\n",
      "3\n"
     ]
    }
   ],
   "source": [
    "x=3\n",
    "y=4\n",
    "\n",
    "print(x+y)    # print the sum of x and y\n",
    "print(x-y)    # subtraction\n",
    "print(x*y)    # multiplication\n",
    "print(x/y)    # simple division\n",
    "print(x**y)   # print exponential product(x to the power of y)\n",
    "print(x//y)   # floor division\n",
    "print(x%y)    # modulus"
   ]
  },
  {
   "cell_type": "markdown",
   "metadata": {},
   "source": [
    "### Assignment Operators"
   ]
  },
  {
   "cell_type": "code",
   "execution_count": 10,
   "metadata": {},
   "outputs": [
    {
     "name": "stdout",
     "output_type": "stream",
     "text": [
      "8\n",
      "6\n",
      "12\n",
      "6.0\n",
      "0.0\n",
      "0.0\n",
      "0.0\n",
      "2\n",
      "6\n",
      "6\n",
      "4\n",
      "1\n",
      "4\n"
     ]
    }
   ],
   "source": [
    "x = 6\n",
    "x += 2 #similar to x = x + 2\n",
    "print(x)\n",
    "x -= 2 #similar to x = x - 2\n",
    "print(x)\n",
    "x *= 2 #similar to x = x * 2\n",
    "print(x)\n",
    "x /= 2 #similar to x = x / 2\n",
    "print(x)\n",
    "x %= 2 #similar to x = x % 2\n",
    "print(x)\n",
    "x //= 2 #similar to x = x // 2\n",
    "print(x)\n",
    "x **= 2 #similar to x = x ** 2\n",
    "print(x)\n",
    "x=6\n",
    "x &= 2 #similar to x = x & 2\n",
    "print(x)\n",
    "x=6\n",
    "print(x)\n",
    "x |= 2 #similar to x = x | 2\n",
    "print(x)\n",
    "x ^= 2 #similar to x = x ^ 2\n",
    "print(x)\n",
    "x >>= 2 #similar to x = x >> 2\n",
    "print(x)\n",
    "x <<= 2 #similar to x = x << 2\n",
    "print(x)"
   ]
  },
  {
   "cell_type": "markdown",
   "metadata": {},
   "source": [
    "### Comparision Operators"
   ]
  },
  {
   "cell_type": "code",
   "execution_count": 11,
   "metadata": {},
   "outputs": [
    {
     "name": "stdout",
     "output_type": "stream",
     "text": [
      "True\n",
      "False\n",
      "False\n",
      "False\n",
      "True\n",
      "True\n"
     ]
    }
   ],
   "source": [
    "x=5\n",
    "y=5\n",
    "print(x == y)\t# checks if x is equal to y\n",
    "print(x != y) # checks if x is not equal to y\t\n",
    "print(x > y) # checks if x is greayer than y\t\n",
    "print(x < y) # checks if x is less than y\t\n",
    "print(x >= y) # checks if x is greater that or equal to y\n",
    "print(x <= y) # checks if x is less than or equal to y."
   ]
  },
  {
   "cell_type": "markdown",
   "metadata": {},
   "source": [
    "### Logical Operators"
   ]
  },
  {
   "cell_type": "code",
   "execution_count": 12,
   "metadata": {},
   "outputs": [
    {
     "name": "stdout",
     "output_type": "stream",
     "text": [
      "True\n",
      "True\n",
      "False\n"
     ]
    }
   ],
   "source": [
    "x=5\n",
    "y=10\n",
    "print(x==5 and y==10) # performs AND operation on the results of the comparision operators(True and True)\n",
    "print(x==5 or y!=10) # performs OR operation on the results of the comparision operators(True or False)\n",
    "print(not(x==5)) # reverses the result of the comparision operation."
   ]
  },
  {
   "cell_type": "markdown",
   "metadata": {},
   "source": [
    "### Identity Operators"
   ]
  },
  {
   "cell_type": "code",
   "execution_count": 13,
   "metadata": {},
   "outputs": [
    {
     "name": "stdout",
     "output_type": "stream",
     "text": [
      "True\n",
      "False\n",
      "True\n"
     ]
    }
   ],
   "source": [
    "x=[1,2,3]\n",
    "y=[1,2,3]\n",
    "z=y\n",
    "print(z is y) # returns True as z is the same object as y\n",
    "print(z is x) # returns False as z is not the same object as x\n",
    "print(z is not x) # returns True as z is not the same object as x"
   ]
  },
  {
   "cell_type": "markdown",
   "metadata": {},
   "source": [
    "### Membership Operators"
   ]
  },
  {
   "cell_type": "code",
   "execution_count": 14,
   "metadata": {},
   "outputs": [
    {
     "name": "stdout",
     "output_type": "stream",
     "text": [
      "True\n",
      "True\n"
     ]
    }
   ],
   "source": [
    "x=[\"Digital\",\"Scholorship\",\"Hub\"]\n",
    "print(\"Hub\" in x)# prints True, as \"Hub\" is in list x\n",
    "print(2 not in x)# prints True, as 2 is not in list x"
   ]
  },
  {
   "cell_type": "markdown",
   "metadata": {},
   "source": [
    "## Conditional Statements and Flow control"
   ]
  },
  {
   "cell_type": "markdown",
   "metadata": {},
   "source": [
    "### IF Statement"
   ]
  },
  {
   "cell_type": "code",
   "execution_count": 32,
   "metadata": {},
   "outputs": [
    {
     "name": "stdout",
     "output_type": "stream",
     "text": [
      "We have baking powder to make pancakes!\n",
      "Syrup is optional\n",
      "Done\n"
     ]
    }
   ],
   "source": [
    "pantry= ['flour','baking powder','salt','white sugar','milk','egg','butter']\n",
    "\n",
    "if 'baking powder' in pantry:\n",
    "    print('We have baking powder to make pancakes!')\n",
    "\n",
    "if 'syrup' not in pantry:\n",
    "    print('Syrup is optional')\n",
    "print('Done')\n"
   ]
  },
  {
   "cell_type": "markdown",
   "metadata": {},
   "source": [
    "### ELIF Statement"
   ]
  },
  {
   "cell_type": "code",
   "execution_count": 16,
   "metadata": {},
   "outputs": [
    {
     "name": "stdout",
     "output_type": "stream",
     "text": [
      "Incomplete ingredients\n"
     ]
    }
   ],
   "source": [
    "ingredients= ['flour',' baking powder','salt','white sugar','milk','egg','butter']\n",
    "\n",
    "\n",
    "if 'milk' not in pantry:\n",
    "    print('No milk')\n",
    "elif 'non-dairy milk' in pantry:\n",
    "    print('Non-Dairy milk is available. We can make vegan pancakes if we have Apple Cider vinegar and vanilla instead of eggs and butter')\n",
    "else:\n",
    "    print(\"Incomplete ingredients\")"
   ]
  },
  {
   "cell_type": "markdown",
   "metadata": {},
   "source": [
    "## While Loop"
   ]
  },
  {
   "cell_type": "code",
   "execution_count": 17,
   "metadata": {},
   "outputs": [
    {
     "name": "stdout",
     "output_type": "stream",
     "text": [
      "Servings:32\n"
     ]
    }
   ],
   "source": [
    "butter_in_pantry = 12\n",
    "servings=0\n",
    "while butter_in_pantry > 0:\n",
    "    servings=servings+8\n",
    "    butter_in_pantry=butter_in_pantry-3\n",
    "print(\"Servings:\" + str(servings))"
   ]
  },
  {
   "cell_type": "markdown",
   "metadata": {},
   "source": [
    "### Break Statement"
   ]
  },
  {
   "cell_type": "code",
   "execution_count": 33,
   "metadata": {},
   "outputs": [
    {
     "name": "stdout",
     "output_type": "stream",
     "text": [
      "24\n"
     ]
    }
   ],
   "source": [
    "butter_in_pantry = 150\n",
    "servings=0\n",
    "while butter_in_pantry > 0:\n",
    "    servings=servings+8\n",
    "    if servings >= 24:\n",
    "        break\n",
    "    butter_in_pantry=butter_in_pantry-3\n",
    "print(servings)"
   ]
  },
  {
   "cell_type": "markdown",
   "metadata": {},
   "source": [
    "### Continue"
   ]
  },
  {
   "cell_type": "code",
   "execution_count": 26,
   "metadata": {},
   "outputs": [
    {
     "name": "stdout",
     "output_type": "stream",
     "text": [
      "Label 1\n",
      "Label 2\n",
      "Label 4\n",
      "Label 5\n",
      "Label 6\n",
      "Label 7\n",
      "Label 8\n",
      "Label 9\n",
      "Label 10\n"
     ]
    }
   ],
   "source": [
    "label_index = 0\n",
    "while label_index < 10:\n",
    "    label_index += 1\n",
    "    if label_index == 3:\n",
    "        continue\n",
    "    print(\"Label \"+str(label_index))"
   ]
  },
  {
   "cell_type": "markdown",
   "metadata": {},
   "source": [
    "## For Loop"
   ]
  },
  {
   "cell_type": "code",
   "execution_count": 25,
   "metadata": {},
   "outputs": [
    {
     "name": "stdout",
     "output_type": "stream",
     "text": [
      "flour\n",
      " \n",
      " baking powder\n",
      " \n",
      "salt\n",
      " \n",
      "white sugar\n",
      " \n",
      "milk\n",
      " \n",
      "egg\n",
      " \n",
      "butter\n",
      " \n",
      "cheese\n",
      " \n",
      "yeast\n",
      " \n",
      "vanilla extract\n",
      " \n",
      "oregano\n",
      " \n",
      "maple syrup\n",
      " \n",
      "strawberry jam\n",
      " \n"
     ]
    }
   ],
   "source": [
    "pantry= ['flour',' baking powder','salt','white sugar','milk','egg','butter','cheese','yeast','vanilla extract','oregano','maple syrup','strawberry jam']\n",
    "for x in pantry:\n",
    "    print(x)\n",
    "    print(\" \")"
   ]
  },
  {
   "cell_type": "markdown",
   "metadata": {},
   "source": [
    "## Functions"
   ]
  },
  {
   "cell_type": "markdown",
   "metadata": {},
   "source": [
    "### create a function"
   ]
  },
  {
   "cell_type": "code",
   "execution_count": 21,
   "metadata": {},
   "outputs": [],
   "source": [
    "def my_function():\n",
    "    print(\"Hello from a function\")"
   ]
  },
  {
   "cell_type": "markdown",
   "metadata": {},
   "source": [
    "### Call a Function"
   ]
  },
  {
   "cell_type": "code",
   "execution_count": 22,
   "metadata": {},
   "outputs": [
    {
     "name": "stdout",
     "output_type": "stream",
     "text": [
      "Hello from a function\n"
     ]
    }
   ],
   "source": [
    "def my_function():\n",
    "    print(\"Hello from a function\")\n",
    "\n",
    "my_function()"
   ]
  },
  {
   "cell_type": "markdown",
   "metadata": {},
   "source": [
    "### Arguments"
   ]
  },
  {
   "cell_type": "code",
   "execution_count": 23,
   "metadata": {},
   "outputs": [
    {
     "name": "stdout",
     "output_type": "stream",
     "text": [
      "Emil Refsnes\n",
      "Tobias Refsnes\n",
      "Linus Refsnes\n"
     ]
    }
   ],
   "source": [
    "def my_function(fname):\n",
    "    print(fname + \" Refsnes\")\n",
    "\n",
    "my_function(\"Emil\")\n",
    "my_function(\"Tobias\")\n",
    "my_function(\"Linus\")"
   ]
  },
  {
   "cell_type": "markdown",
   "metadata": {},
   "source": [
    "## Lambdas"
   ]
  },
  {
   "cell_type": "code",
   "execution_count": 24,
   "metadata": {},
   "outputs": [
    {
     "name": "stdout",
     "output_type": "stream",
     "text": [
      "15\n"
     ]
    }
   ],
   "source": [
    "x = lambda a : a + 10\n",
    "print(x(5))"
   ]
  },
  {
   "cell_type": "code",
   "execution_count": null,
   "metadata": {},
   "outputs": [],
   "source": []
  },
  {
   "cell_type": "code",
   "execution_count": null,
   "metadata": {},
   "outputs": [],
   "source": []
  }
 ],
 "metadata": {
  "kernelspec": {
   "display_name": "Python 3",
   "language": "python",
   "name": "python3"
  },
  "language_info": {
   "codemirror_mode": {
    "name": "ipython",
    "version": 3
   },
   "file_extension": ".py",
   "mimetype": "text/x-python",
   "name": "python",
   "nbconvert_exporter": "python",
   "pygments_lexer": "ipython3",
   "version": "3.7.3"
  }
 },
 "nbformat": 4,
 "nbformat_minor": 5
}
