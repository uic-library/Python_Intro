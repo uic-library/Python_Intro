{
 "cells": [
  {
   "cell_type": "markdown",
   "metadata": {},
   "source": [
    "# Home work task 2"
   ]
  },
  {
   "cell_type": "markdown",
   "metadata": {},
   "source": [
    "## We will continue to work with the same example as the previous homework. Follow the below steps to complete this task"
   ]
  },
  {
   "cell_type": "markdown",
   "metadata": {},
   "source": [
    "1) Display a greeting message and prompt user to enter name.\n",
    "\n",
    "2) Take the input from the user and display a greeting message(string) with the name in it(Ex: Hello xxx!)\n",
    "\n",
    "3) Declare a dictionary for menu.\n",
    "\n",
    "4) insert menu/inventory items into the dictionary. The key is the item name and the value should be the price of that item.\n",
    "\n",
    "5) Declare another dictionary with the same keys as the dictionary for menu. the value here will be the number of units for each item.\n",
    "\n",
    "6) Collect details regarding the order from the user(item and item quantity).\n",
    "\n",
    "7) Peform necessary operations on both dictionaries(retrieve price from menu and reduce the units available for the item according to the quantity the user asked).\n",
    "\n",
    "8) print a bill with all items,their quantity and respective costs.\n",
    "\n",
    "9) Finally print the total cost."
   ]
  },
  {
   "cell_type": "code",
   "execution_count": null,
   "metadata": {},
   "outputs": [],
   "source": [
    "menu={}\n",
    "menu.update({\"Coffee\":'3$', \"Breakfast Tea\":'5$',\"Bagels\":'7$',\"Cream Cheese\":'5$',\"Cheese Danish\":'9$',\"Donuts(pack of 3)\":'6$'})"
   ]
  },
  {
   "cell_type": "code",
   "execution_count": null,
   "metadata": {},
   "outputs": [],
   "source": [
    "stock={}\n",
    "stock.update({\"Coffee\":60, \"Breakfast Tea\":60,\"Bagels\":25,\"Cream Cheese\":25,\"Cheese Danish\":10,\"Donuts(pack of 3)\":5})\n"
   ]
  },
  {
   "cell_type": "code",
   "execution_count": null,
   "metadata": {},
   "outputs": [],
   "source": [
    "def display(m):\n",
    "    k=m.keys()\n",
    "    c=0\n",
    "    for i in k:\n",
    "        if c<=6:\n",
    "            c=c+1\n",
    "        else:\n",
    "            c=1\n",
    "        print(str(c)+\"     \"+i +\"     \"+m[i])\n",
    "def display_items(n):\n",
    "    i=n.keys()\n",
    "    for j in i:\n",
    "        print(j +\"     \"+str(n[j])+\"$\")"
   ]
  },
  {
   "cell_type": "code",
   "execution_count": null,
   "metadata": {},
   "outputs": [],
   "source": [
    "def order():\n",
    "    key=1\n",
    "    total_cost=0 # this variable keep tracks to the total cost for all items\n",
    "    menu_keys=list(menu.keys())\n",
    "    stock_keys=list(stock.keys())\n",
    "    ordered_items={}\n",
    "    while(key !=0):\n",
    "        display(menu)\n",
    "        item_number=int(input(\"Enter the number corresponding to the item you want- or Enter 0 to exit\"))\n",
    "        if item_number==0:\n",
    "            break\n",
    "        else:\n",
    "            item_quantity=int(input(\"Enter the required quantity-\"))\n",
    "            if item_quantity<=stock[stock_keys[item_number-1]]:\n",
    "                stock[stock_keys[item_number-1]]=stock[stock_keys[item_number-1]]-item_quantity\n",
    "                price=str(menu[menu_keys[item_number-1]]).rstrip('$')\n",
    "                price=int(price)\n",
    "                total_cost=total_cost+(item_quantity*price)\n",
    "                ordered_items[menu_keys[item_number-1]]=item_quantity*price\n",
    "            else:\n",
    "                print(\"We are out of stock! Please order something else\")\n",
    "    print(\"************************RECIEPT*****************************\")\n",
    "    display_items(ordered_items)\n",
    "    print(\"Total Due: \"+str(total_cost)+\"$\")\n"
   ]
  },
  {
   "cell_type": "code",
   "execution_count": null,
   "metadata": {},
   "outputs": [],
   "source": [
    "print(\"Hello! Welcome to XXX Cafe\")\n",
    "customer_name=input(\"Enter your name\")\n",
    "print(\"Hello \"+customer_name+\"! Look at the menu below and choose\")\n",
    "order()"
   ]
  },
  {
   "cell_type": "code",
   "execution_count": null,
   "metadata": {},
   "outputs": [],
   "source": []
  },
  {
   "cell_type": "code",
   "execution_count": null,
   "metadata": {},
   "outputs": [],
   "source": []
  }
 ],
 "metadata": {
  "kernelspec": {
   "display_name": "Python 3 (ipykernel)",
   "language": "python",
   "name": "python3"
  },
  "language_info": {
   "codemirror_mode": {
    "name": "ipython",
    "version": 3
   },
   "file_extension": ".py",
   "mimetype": "text/x-python",
   "name": "python",
   "nbconvert_exporter": "python",
   "pygments_lexer": "ipython3",
   "version": "3.9.7"
  }
 },
 "nbformat": 4,
 "nbformat_minor": 2
}
