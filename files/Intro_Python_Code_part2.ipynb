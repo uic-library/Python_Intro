{
 "cells": [
  {
   "cell_type": "markdown",
   "metadata": {},
   "source": [
    "# Functions"
   ]
  },
  {
   "cell_type": "markdown",
   "metadata": {},
   "source": [
    "## create a function"
   ]
  },
  {
   "cell_type": "code",
   "execution_count": 106,
   "metadata": {},
   "outputs": [],
   "source": [
    "def my_function():\n",
    "    print(\"Hello from a function\")"
   ]
  },
  {
   "cell_type": "markdown",
   "metadata": {},
   "source": [
    "## call a function"
   ]
  },
  {
   "cell_type": "code",
   "execution_count": 107,
   "metadata": {},
   "outputs": [
    {
     "name": "stdout",
     "output_type": "stream",
     "text": [
      "Hello from a function\n"
     ]
    }
   ],
   "source": [
    "def my_function():\n",
    "    print(\"Hello from a function\")\n",
    "\n",
    "my_function()"
   ]
  },
  {
   "cell_type": "markdown",
   "metadata": {},
   "source": [
    "## Arguments"
   ]
  },
  {
   "cell_type": "code",
   "execution_count": 108,
   "metadata": {},
   "outputs": [
    {
     "name": "stdout",
     "output_type": "stream",
     "text": [
      "Emil Refsnes\n",
      "Tobias Refsnes\n",
      "Linus Refsnes\n"
     ]
    }
   ],
   "source": [
    "def my_function(fname):\n",
    "    print(fname + \" Refsnes\")\n",
    "\n",
    "my_function(\"Emil\")\n",
    "my_function(\"Tobias\")\n",
    "my_function(\"Linus\")"
   ]
  },
  {
   "cell_type": "markdown",
   "metadata": {},
   "source": [
    "## Lambdas"
   ]
  },
  {
   "cell_type": "code",
   "execution_count": 109,
   "metadata": {},
   "outputs": [
    {
     "name": "stdout",
     "output_type": "stream",
     "text": [
      "15\n"
     ]
    }
   ],
   "source": [
    "\n",
    "\n",
    "x = lambda a : a + 10\n",
    "print(x(5))"
   ]
  },
  {
   "cell_type": "code",
   "execution_count": null,
   "metadata": {},
   "outputs": [],
   "source": []
  },
  {
   "cell_type": "markdown",
   "metadata": {},
   "source": [
    "# Lists"
   ]
  },
  {
   "cell_type": "markdown",
   "metadata": {},
   "source": [
    "## Accessing elements of a list"
   ]
  },
  {
   "cell_type": "code",
   "execution_count": 110,
   "metadata": {},
   "outputs": [
    {
     "name": "stdout",
     "output_type": "stream",
     "text": [
      "['flour', ' baking powder', 'salt', 'white sugar', 'milk', 'egg', 'butter', 'cheese', 'yeast', 'vanilla extract', 'oregano', 'maple syrup', 'strawberry jam']\n",
      "flour\n",
      "[' baking powder', 'salt', 'white sugar', 'milk']\n",
      "['milk', 'egg', 'butter', 'cheese', 'yeast', 'vanilla extract', 'oregano', 'maple syrup', 'strawberry jam']\n",
      "strawberry jam\n"
     ]
    }
   ],
   "source": [
    "\n",
    "\n",
    "pantry= ['flour',' baking powder','salt','white sugar','milk','egg','butter','cheese','yeast','vanilla extract','oregano','maple syrup','strawberry jam']\n",
    "\n",
    "\n",
    "print(pantry)        #Prints list\n",
    "\n",
    "print(pantry[0])     #Prints 1st element in the list\n",
    "\n",
    "print(pantry[1:5])   #Prints 2nd to 5th elements in the list\n",
    "\n",
    "print(pantry[4:])    #Prints all the elements after 4\n",
    "\n",
    "print(pantry[-1])    #Prints the last element"
   ]
  },
  {
   "cell_type": "markdown",
   "metadata": {},
   "source": [
    "## Removing elements from a list"
   ]
  },
  {
   "cell_type": "code",
   "execution_count": 111,
   "metadata": {},
   "outputs": [
    {
     "name": "stdout",
     "output_type": "stream",
     "text": [
      "['flour', ' baking powder', 'salt', 'white sugar', 'milk', 'butter', 'cheese', 'yeast', 'vanilla extract', 'oregano', 'maple syrup', 'strawberry jam']\n",
      "['flour', ' baking powder', 'salt', 'white sugar', 'butter', 'cheese', 'yeast', 'vanilla extract', 'oregano', 'maple syrup', 'strawberry jam']\n",
      "['flour', 'salt', 'white sugar', 'butter', 'cheese', 'yeast', 'vanilla extract', 'oregano', 'maple syrup', 'strawberry jam']\n"
     ]
    }
   ],
   "source": [
    "\n",
    "\n",
    "pantry_1= ['flour',' baking powder','salt','white sugar','milk','egg','butter','cheese','yeast','vanilla extract','oregano','maple syrup','strawberry jam']\n",
    "\n",
    "\n",
    "del(pantry_1[5])         #Delets the 5th element in the list \n",
    "print(pantry_1)  \n",
    "\n",
    "pantry_1.remove('milk')      #Removes the element milk. Remove command removes the first matching element\n",
    "print(pantry_1)\n",
    "\n",
    "pantry_1.pop(1)          #Pops the element present on the first index\n",
    "print(pantry_1)"
   ]
  },
  {
   "cell_type": "markdown",
   "metadata": {},
   "source": [
    "## Other operations with list"
   ]
  },
  {
   "cell_type": "code",
   "execution_count": 112,
   "metadata": {
    "scrolled": true
   },
   "outputs": [
    {
     "name": "stdout",
     "output_type": "stream",
     "text": [
      "13\n",
      "['flour', ' baking powder', 'salt', 'white sugar', 'milk', 'egg', 'butter', 'cheese', 'yeast', 'vanilla extract', 'oregano', 'maple syrup', 'strawberry jam', 'pepper', 'yeast', 'cinnamon', 'chilli flakes', 'oregano']\n",
      "['cinnamon', 'chilli flakes', 'oregano']\n"
     ]
    }
   ],
   "source": [
    "\n",
    "\n",
    "pantry= ['flour',' baking powder','salt','white sugar','milk','egg','butter','cheese','yeast','vanilla extract','oregano','maple syrup','strawberry jam']\n",
    "new_items=['pepper','yeast','cinnamon','chilli flakes','oregano']\n",
    "\n",
    "print(len(pantry))     # The len() function is used to get the length of the list\n",
    "updated_pantry= pantry + new_items     #Adding/Concatenating two lists\n",
    "print(updated_pantry)\n",
    "print(updated_pantry[-3:])     #Prints last 3 elements"
   ]
  },
  {
   "cell_type": "markdown",
   "metadata": {},
   "source": [
    "## Checking if an element is present in the list"
   ]
  },
  {
   "cell_type": "code",
   "execution_count": 113,
   "metadata": {},
   "outputs": [
    {
     "data": {
      "text/plain": [
       "False"
      ]
     },
     "execution_count": 113,
     "metadata": {},
     "output_type": "execute_result"
    }
   ],
   "source": [
    "\n",
    "\n",
    "'pepper' in updated_pantry   #The 'in' statement checks whether certain element is present in the list or not. If the element is present it returns True else False\n",
    "'yeast' in updated_pantry\n",
    "'salt' not in updated_pantry #Similar to 'in' statement"
   ]
  },
  {
   "cell_type": "markdown",
   "metadata": {},
   "source": [
    "## Min Max Function"
   ]
  },
  {
   "cell_type": "code",
   "execution_count": 114,
   "metadata": {},
   "outputs": [
    {
     "name": "stdout",
     "output_type": "stream",
     "text": [
      "1\n",
      "99\n"
     ]
    }
   ],
   "source": [
    "\n",
    "lis6=[1,34,73,67,99,22,3,4]\n",
    "\n",
    "print(min(lis6))\n",
    "print(max(lis6))"
   ]
  },
  {
   "cell_type": "markdown",
   "metadata": {},
   "source": [
    "## Adding value to the list"
   ]
  },
  {
   "cell_type": "code",
   "execution_count": 115,
   "metadata": {
    "scrolled": true
   },
   "outputs": [
    {
     "name": "stdout",
     "output_type": "stream",
     "text": [
      "[1, 34, 73, 67, 99, 22, 3, 4, 56]\n",
      "[1, 34, 73, 67, 99, 22, 3, 4, 56, 11, 2, 33]\n",
      "[90, 1, 34, 73, 67, 99, 22, 3, 4, 56, 11, 2, 33]\n"
     ]
    }
   ],
   "source": [
    "\n",
    "lis6.append(56)     #Appends only one element at the end of the list\n",
    "print(lis6)\n",
    "lis6.extend([11,2,33]) #Appends multiple elements at the end of the list\n",
    "print(lis6)\n",
    "\n",
    "updated_pantry.append('olive oil')\n",
    "updated_pantry.extend(['Mayonnaise','Cream Cheese','Honey'])\n",
    "\n",
    "lis6.insert(0,90)   #Inserts element at the mentioned index\n",
    "print(lis6)"
   ]
  },
  {
   "cell_type": "markdown",
   "metadata": {},
   "source": [
    "## Sorting elements in a list"
   ]
  },
  {
   "cell_type": "code",
   "execution_count": 116,
   "metadata": {},
   "outputs": [
    {
     "name": "stdout",
     "output_type": "stream",
     "text": [
      "[-6, -5, -1, 1, 3, 4, 5, 6, 7, 8, 22]\n",
      "[-10, -8, -5, -3, 1, 2, 3, 4, 5, 8, 10, 11]\n",
      "[-3, 11, 2, 3, 8, 4, 1, 5, -5, -8, -10, 10]\n"
     ]
    }
   ],
   "source": [
    "\n",
    "\n",
    "lis7=[-6,1,-1,-5,3,6,7,8,22,5,4]\n",
    "\n",
    "lis7.sort()         #Sorts elements in ascending order\n",
    "\n",
    "print(lis7)\n",
    "\n",
    "#Sorted function\n",
    "\n",
    "lis8=[-3,11,2,3,8,4,1,5,-5,-8,-10,10]\n",
    "\n",
    "print(sorted(lis8)) #Prints the sorted list\n",
    "\n",
    "print(lis8)         #Prints the original list. Sorted function doesnot change the original list whereas sort function does"
   ]
  },
  {
   "cell_type": "markdown",
   "metadata": {},
   "source": [
    "## Reassigning a list"
   ]
  },
  {
   "cell_type": "code",
   "execution_count": 117,
   "metadata": {},
   "outputs": [
    {
     "name": "stdout",
     "output_type": "stream",
     "text": [
      "[-3, 11, 2, 3, 8, 4, 1, 5, -5, -8, -10, 10]\n",
      "[100, 11, 2, 3, 8, 4, 1, 5, -5, -8, -10, 10]\n"
     ]
    }
   ],
   "source": [
    "\n",
    "print(lis8)\n",
    "\n",
    "lis8[0]=100         #Assigns index 0 as 100\n",
    "\n",
    "print(lis8)"
   ]
  },
  {
   "cell_type": "markdown",
   "metadata": {},
   "source": [
    "# Tuples"
   ]
  },
  {
   "cell_type": "code",
   "execution_count": 118,
   "metadata": {},
   "outputs": [
    {
     "name": "stdout",
     "output_type": "stream",
     "text": [
      "(750, 'South Halsted Street', 'Chicago', 60607)\n",
      "750\n",
      "('South Halsted Street', 'Chicago')\n"
     ]
    }
   ],
   "source": [
    "#Tuples\n",
    "#Unlike list tuples are enclosed in ()\n",
    "#Cannot use store/stored functions for tuples because they are immutable\n",
    "\n",
    "address=(750, 'South Halsted Street', 'Chicago', 60607)\n",
    "\n",
    "print(address)\n",
    "\n",
    "print(address[0])\n",
    "\n",
    "print(address[1:3])"
   ]
  },
  {
   "cell_type": "markdown",
   "metadata": {},
   "source": [
    "# Dictionaries"
   ]
  },
  {
   "cell_type": "code",
   "execution_count": 119,
   "metadata": {},
   "outputs": [
    {
     "name": "stdout",
     "output_type": "stream",
     "text": [
      "{'eggs': 10, 'butter(tbsp)': 20, 'sugar(oz)': 30, 'salt(oz)': 40}\n"
     ]
    }
   ],
   "source": [
    "pantry={'eggs':10,'butter(tbsp)':20,'sugar(oz)':30,'salt(oz)':40}\n",
    "\n",
    "print(pantry)"
   ]
  },
  {
   "cell_type": "markdown",
   "metadata": {},
   "source": [
    "## Accessing elements in a dictionary"
   ]
  },
  {
   "cell_type": "code",
   "execution_count": 120,
   "metadata": {},
   "outputs": [
    {
     "name": "stdout",
     "output_type": "stream",
     "text": [
      "10\n",
      "dict_keys(['eggs', 'butter(tbsp)', 'sugar(oz)', 'salt(oz)'])\n"
     ]
    }
   ],
   "source": [
    "print(pantry['eggs'])\n",
    "\n",
    "k= pantry.keys()\n",
    "print(k)"
   ]
  },
  {
   "cell_type": "markdown",
   "metadata": {},
   "source": [
    "## Inserting/changing items in a Dictionary"
   ]
  },
  {
   "cell_type": "code",
   "execution_count": 121,
   "metadata": {},
   "outputs": [],
   "source": [
    "pantry['eggs']=50\n",
    "pantry.update({'eggs':10})\n",
    "\n",
    "pantry['Flour']=50\n",
    "pantry.update({'pepper':60,'olive oil':70})"
   ]
  },
  {
   "cell_type": "markdown",
   "metadata": {},
   "source": [
    "## Copying a dictionary"
   ]
  },
  {
   "cell_type": "code",
   "execution_count": 122,
   "metadata": {},
   "outputs": [],
   "source": [
    "pantry_copy_1=pantry.copy()\n",
    "pantry_copy_2=dict(pantry)"
   ]
  },
  {
   "cell_type": "markdown",
   "metadata": {},
   "source": [
    "## Deletion in Dictionaries"
   ]
  },
  {
   "cell_type": "code",
   "execution_count": 123,
   "metadata": {},
   "outputs": [],
   "source": [
    "\n",
    "\n",
    "#We use the pop() method and the del keyword to delete elements in dictionaries. \n",
    "pantry.pop('olive oil')\n",
    "del pantry['pepper']\n",
    "\n",
    "\n",
    "# The clear() method is used to empty the dictionary.\n",
    "pantry.clear()\n",
    "\n",
    "# the del keyword can delete the dictionary completely:\n",
    "del pantry\n",
    "#print(pantry)"
   ]
  },
  {
   "cell_type": "code",
   "execution_count": 124,
   "metadata": {},
   "outputs": [],
   "source": [
    "# Nested dictionaries\n",
    "\n",
    "pantry = {\n",
    "  \"Pancakes\" : {\n",
    "    \"Flour\" : 6,\n",
    "    \"milk\" : 2,\n",
    "    \"Eggs\": 3,\n",
    "    \"Butter\" : 6\n",
    "  },\n",
    "  \"French_toast\" : {\n",
    "    \"Bread\" : \"2\",\n",
    "    \"Eggs\" : 2,\n",
    "    \"Sugar\" : 3,\n",
    "    \"milk\" :1\n",
    "  },\n",
    "}\n",
    "# or we can also do the following:\n",
    "\n",
    "Pancakes = {\n",
    "    \"Flour\" : 6,\n",
    "    \"milk\" : 2,\n",
    "    \"Eggs\": 3,\n",
    "    \"Butter\" : 6\n",
    "  }\n",
    "French_toast = {\n",
    "    \"Bread\" : \"2\",\n",
    "    \"Eggs\" : 2,\n",
    "    \"Sugar\" : 3,\n",
    "    \"milk\" :1\n",
    "  }\n",
    "pantry_2 = {\n",
    "  \"Pancakes\" : Pancakes,\n",
    "  \"French_toast\" : French_toast\n",
    "}"
   ]
  },
  {
   "cell_type": "markdown",
   "metadata": {},
   "source": [
    "# Sets"
   ]
  },
  {
   "cell_type": "code",
   "execution_count": 125,
   "metadata": {},
   "outputs": [
    {
     "name": "stdout",
     "output_type": "stream",
     "text": [
      "{2, 'Hub', 'Digital', 'Scholorship'}\n"
     ]
    }
   ],
   "source": [
    "set_example={\"Digital\",\"Scholorship\",\"Hub\",2}\n",
    "print(set_example)"
   ]
  },
  {
   "cell_type": "markdown",
   "metadata": {},
   "source": [
    "## length of a set"
   ]
  },
  {
   "cell_type": "code",
   "execution_count": 126,
   "metadata": {},
   "outputs": [
    {
     "name": "stdout",
     "output_type": "stream",
     "text": [
      "4\n"
     ]
    }
   ],
   "source": [
    "print(len(set_example))"
   ]
  },
  {
   "cell_type": "markdown",
   "metadata": {},
   "source": [
    "## The set() Constructor:"
   ]
  },
  {
   "cell_type": "code",
   "execution_count": 127,
   "metadata": {},
   "outputs": [
    {
     "name": "stdout",
     "output_type": "stream",
     "text": [
      "{2, 'Hub', 'Digital', 'Scholorship'}\n"
     ]
    }
   ],
   "source": [
    "set_constructor=set((\"Digital\",\"Scholorship\",\"Hub\",2))\n",
    "print(set_constructor)"
   ]
  },
  {
   "cell_type": "markdown",
   "metadata": {},
   "source": [
    "## Inserting elements into a set:"
   ]
  },
  {
   "cell_type": "code",
   "execution_count": 128,
   "metadata": {},
   "outputs": [
    {
     "name": "stdout",
     "output_type": "stream",
     "text": [
      "{2, 'Digital', 'Scholorship', 'Hub', 'Python'}\n",
      "{'Beginners', 2, 'Digital', 'Scholorship', 'Workshop', 'Hub', 'Python'}\n"
     ]
    }
   ],
   "source": [
    "# To insert a single element into an existing set, the add method is used.\n",
    "set_example.add(\"Python\")\n",
    "print(set_example)\n",
    "\n",
    "# append another set or any other iterable object\n",
    "list_a=[\"Beginners\",\"Workshop\"]\n",
    "set_example.update(list_a)\n",
    "print(set_example)"
   ]
  },
  {
   "cell_type": "markdown",
   "metadata": {},
   "source": [
    "## Deletion of sets:"
   ]
  },
  {
   "cell_type": "code",
   "execution_count": 129,
   "metadata": {},
   "outputs": [],
   "source": [
    "set_example.remove(\"Beginners\")\n",
    "set_example.discard(\"Workshop\")\n",
    "# clear(): This methid will empty the set\n",
    "set_example.clear()\n",
    "# del: this keyword is used to delete the set completely:\n",
    "del set_example"
   ]
  },
  {
   "cell_type": "markdown",
   "metadata": {},
   "source": [
    "## String Manipulation"
   ]
  },
  {
   "cell_type": "markdown",
   "metadata": {},
   "source": [
    "### Creation"
   ]
  },
  {
   "cell_type": "code",
   "execution_count": 130,
   "metadata": {},
   "outputs": [
    {
     "name": "stdout",
     "output_type": "stream",
     "text": [
      "Digital Scholorship Hub 2\n",
      "12345\n"
     ]
    }
   ],
   "source": [
    "s= \"Digital Scholorship Hub 2\"\n",
    "print(s)\n",
    "\n",
    "s1=str(12345)\n",
    "print(s1)"
   ]
  },
  {
   "cell_type": "markdown",
   "metadata": {},
   "source": [
    "### Accessing"
   ]
  },
  {
   "cell_type": "code",
   "execution_count": 131,
   "metadata": {},
   "outputs": [
    {
     "name": "stdout",
     "output_type": "stream",
     "text": [
      "g\n"
     ]
    }
   ],
   "source": [
    "a=s[2]\n",
    "print(a)"
   ]
  },
  {
   "cell_type": "markdown",
   "metadata": {},
   "source": [
    "### Length of a string"
   ]
  },
  {
   "cell_type": "code",
   "execution_count": 132,
   "metadata": {},
   "outputs": [
    {
     "name": "stdout",
     "output_type": "stream",
     "text": [
      "25\n"
     ]
    }
   ],
   "source": [
    "print(len(s))"
   ]
  },
  {
   "cell_type": "markdown",
   "metadata": {},
   "source": [
    "### Search and index:"
   ]
  },
  {
   "cell_type": "code",
   "execution_count": 133,
   "metadata": {},
   "outputs": [
    {
     "name": "stdout",
     "output_type": "stream",
     "text": [
      "20\n",
      "20\n"
     ]
    }
   ],
   "source": [
    "print(s.find(\"H\"))\n",
    "print(s.index(\"Hub\"))"
   ]
  },
  {
   "cell_type": "markdown",
   "metadata": {},
   "source": [
    "### Count"
   ]
  },
  {
   "cell_type": "code",
   "execution_count": 134,
   "metadata": {},
   "outputs": [
    {
     "name": "stdout",
     "output_type": "stream",
     "text": [
      "3\n"
     ]
    }
   ],
   "source": [
    "print(s.count(\" \"))"
   ]
  },
  {
   "cell_type": "markdown",
   "metadata": {},
   "source": [
    "### Slicing"
   ]
  },
  {
   "cell_type": "markdown",
   "metadata": {},
   "source": [
    ">NOTE:\n",
    ">\n",
    "> s[a:b] # items start through end-1\n",
    ">\n",
    "> s[a:] # items start through the rest of the list\n",
    ">\n",
    "> s[:b] # items from the beginning through end-1\n",
    ">\n",
    "> s[:] # a copy of the whole list"
   ]
  },
  {
   "cell_type": "code",
   "execution_count": 135,
   "metadata": {},
   "outputs": [
    {
     "name": "stdout",
     "output_type": "stream",
     "text": [
      "ita\n"
     ]
    }
   ],
   "source": [
    "print(s[3:6])"
   ]
  },
  {
   "cell_type": "markdown",
   "metadata": {},
   "source": [
    "### Replace"
   ]
  },
  {
   "cell_type": "code",
   "execution_count": 136,
   "metadata": {},
   "outputs": [
    {
     "name": "stdout",
     "output_type": "stream",
     "text": [
      "Digital Scholorship Hub 2\n"
     ]
    }
   ],
   "source": [
    "s2= \"Math and Science\"\n",
    "\n",
    "\n",
    "s.replace(\"Science\",\"Statistics\") # replace Science with Statistics.\n",
    "print(s)"
   ]
  },
  {
   "cell_type": "markdown",
   "metadata": {},
   "source": [
    "### Upper case and Lower case"
   ]
  },
  {
   "cell_type": "code",
   "execution_count": 137,
   "metadata": {},
   "outputs": [
    {
     "name": "stdout",
     "output_type": "stream",
     "text": [
      "DIGITAL SCHOLORSHIP HUB 2\n",
      "digital scholorship hub 2\n",
      "Digital Scholorship Hub 2\n",
      "dIGITAL sCHOLORSHIP hUB 2\n"
     ]
    }
   ],
   "source": [
    "print(s.upper()) # print the string in upper case\n",
    "\n",
    "print(s.lower()) # print the string in lower case\n",
    "\n",
    "print(s.title()) # print the string in title case\n",
    "\n",
    "print(s.swapcase()) # swaps the case of the string."
   ]
  },
  {
   "cell_type": "markdown",
   "metadata": {},
   "source": [
    "### Reversal of a string"
   ]
  },
  {
   "cell_type": "code",
   "execution_count": 138,
   "metadata": {},
   "outputs": [
    {
     "name": "stdout",
     "output_type": "stream",
     "text": [
      "2 buH pihsrolohcS latigiD\n"
     ]
    }
   ],
   "source": [
    "print(''.join(reversed(s)))"
   ]
  },
  {
   "cell_type": "markdown",
   "metadata": {},
   "source": [
    "### Stripping"
   ]
  },
  {
   "cell_type": "code",
   "execution_count": 139,
   "metadata": {},
   "outputs": [
    {
     "name": "stdout",
     "output_type": "stream",
     "text": [
      "this is an example\n",
      "this is an example \n",
      " this is an example\n"
     ]
    }
   ],
   "source": [
    "s=\" this is an example \"\n",
    "print(s.strip())\n",
    "print(s.lstrip())\n",
    "print(s.rstrip())"
   ]
  },
  {
   "cell_type": "markdown",
   "metadata": {},
   "source": [
    "### Concatenation"
   ]
  },
  {
   "cell_type": "code",
   "execution_count": 140,
   "metadata": {},
   "outputs": [
    {
     "name": "stdout",
     "output_type": "stream",
     "text": [
      "HelloWorld\n"
     ]
    }
   ],
   "source": [
    "s3=\"Hello\"\n",
    "s4=\"World\"\n",
    "\n",
    "print(s3+s4)"
   ]
  },
  {
   "cell_type": "markdown",
   "metadata": {},
   "source": [
    "### Join"
   ]
  },
  {
   "cell_type": "code",
   "execution_count": 141,
   "metadata": {},
   "outputs": [
    {
     "name": "stdout",
     "output_type": "stream",
     "text": [
      "hello world\n"
     ]
    }
   ],
   "source": [
    "l=[\"hello\",\"world\"]\n",
    "print(\" \".join(l)) # adds a space between each character."
   ]
  },
  {
   "cell_type": "markdown",
   "metadata": {},
   "source": [
    "### Testing"
   ]
  },
  {
   "cell_type": "code",
   "execution_count": 142,
   "metadata": {
    "scrolled": true
   },
   "outputs": [
    {
     "name": "stdout",
     "output_type": "stream",
     "text": [
      "False\n",
      "False\n",
      "False\n",
      "True\n",
      "False\n",
      "False\n",
      "False\n",
      "False\n",
      "False\n"
     ]
    }
   ],
   "source": [
    "s = \"Digital Scholorship Hub\"\n",
    "\n",
    "print(s.isalnum()) #checks if all the characters are alphanumeric \n",
    "\n",
    "print(s.isalpha()) #checks if all the characters are alphabetic\n",
    "\n",
    "print(s.isdigit()) #checks if string contains digits\n",
    "\n",
    "print(s.istitle()) #checks if string contains title words\n",
    "\n",
    "print(s.isupper()) #checks if string contains upper case\n",
    "\n",
    "print(s.islower()) #checks if string contains lower case\n",
    "\n",
    "print(s.isspace()) #checks if string contains spaces\n",
    "\n",
    "print(s.endswith('d')) #checks if string endswith a d\n",
    "\n",
    "print(s.startswith('H')) #checks if string startswith H"
   ]
  }
 ],
 "metadata": {
  "kernelspec": {
   "display_name": "Python 3",
   "language": "python",
   "name": "python3"
  },
  "language_info": {
   "codemirror_mode": {
    "name": "ipython",
    "version": 3
   },
   "file_extension": ".py",
   "mimetype": "text/x-python",
   "name": "python",
   "nbconvert_exporter": "python",
   "pygments_lexer": "ipython3",
   "version": "3.7.3"
  }
 },
 "nbformat": 4,
 "nbformat_minor": 5
}
