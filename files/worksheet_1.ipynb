{
 "cells": [
  {
   "cell_type": "markdown",
   "metadata": {},
   "source": [
    "# Worksheet 1"
   ]
  },
  {
   "cell_type": "markdown",
   "metadata": {},
   "source": [
    "## Implement a python program to check out items at a bakery."
   ]
  },
  {
   "cell_type": "markdown",
   "metadata": {},
   "source": [
    "Consider yourself to be a person working at the cash register of a store. The customers/ guests come to your register and tell you what they want. You are supposed to make a __note of the items__ and tell them the __total Cost__.\n",
    "\n",
    "__For this worksheet, you can just print the total cost(you do not have to display the items ordered and their corresponding costs).__\n",
    "\n",
    "Your program should print the menu of your store(multiple times in the same order), take input from customer, compute the total cost and display it. for example:\n",
    "\n",
    "customer 1 enters-\n",
    " you will display menu\n",
    "customer 1 places order (one item and its corresponding quantity(ex : 3 cheese tarts))\n",
    " read the customer input and perform computations\n",
    " you will display menu again.\n",
    "customer 1 places order for mext item (one item and its corresponding quantity(ex : 1 chocolate cake))\n",
    ".\n",
    ".\n",
    ".\n",
    "this goes on till the customer decides that he has ordered everything.(Hint: include an option to stop in menu)\n",
    "Print the total cost for customer 1\n",
    "\n",
    "\n",
    "customer 2 enters-\n",
    "and so on."
   ]
  },
  {
   "cell_type": "markdown",
   "metadata": {},
   "source": [
    "### Concepts required: \n",
    "Variables, operators, print, input, loops.\n",
    "\n",
    "#### Solutions will be posted on Friday(end of the day)."
   ]
  },
  {
   "cell_type": "code",
   "execution_count": null,
   "metadata": {},
   "outputs": [],
   "source": []
  },
  {
   "cell_type": "code",
   "execution_count": null,
   "metadata": {},
   "outputs": [],
   "source": []
  },
  {
   "cell_type": "code",
   "execution_count": null,
   "metadata": {},
   "outputs": [],
   "source": []
  }
 ],
 "metadata": {
  "kernelspec": {
   "display_name": "Python 3",
   "language": "python",
   "name": "python3"
  },
  "language_info": {
   "codemirror_mode": {
    "name": "ipython",
    "version": 3
   },
   "file_extension": ".py",
   "mimetype": "text/x-python",
   "name": "python",
   "nbconvert_exporter": "python",
   "pygments_lexer": "ipython3",
   "version": "3.7.3"
  }
 },
 "nbformat": 4,
 "nbformat_minor": 2
}
