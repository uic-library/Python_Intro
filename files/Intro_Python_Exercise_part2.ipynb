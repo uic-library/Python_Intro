{
 "cells": [
  {
   "cell_type": "markdown",
   "metadata": {},
   "source": [
    "# Home work task 2"
   ]
  },
  {
   "cell_type": "markdown",
   "metadata": {},
   "source": [
    "## We will continue to work with the same example as the previous homework. Follow the below steps to complete this task"
   ]
  },
  {
   "cell_type": "markdown",
   "metadata": {},
   "source": [
    "1) Display a greeting message and prompt user to enter name.\n",
    "\n",
    "2) Take the input from the user and display a greeting message(string) with the name in it(Ex: Hello xxx!)\n",
    "\n",
    "3) Declare a dictionary for menu.\n",
    "\n",
    "4) insert menu/inventory items into the dictionary. The key is the item name and the value should be the price of that item.\n",
    "\n",
    "5) Declare another dictionary with the same keys as the dictionary for menu. the value here will be the number of units for each item.\n",
    "\n",
    "6) Collect details regarding the order from the user(item and item quantity).\n",
    "\n",
    "7) Peform necessary operations on both dictionaries(retrieve price from menu and reduce the units available for the item according to the quantity the user asked).\n",
    "\n",
    "8) print a bill with all items,their quantity and respective costs.\n",
    "\n",
    "9) Finally print the total cost."
   ]
  },
  {
   "cell_type": "code",
   "execution_count": null,
   "metadata": {},
   "outputs": [],
   "source": []
  },
  {
   "cell_type": "code",
   "execution_count": null,
   "metadata": {},
   "outputs": [],
   "source": []
  }
 ],
 "metadata": {
  "kernelspec": {
   "display_name": "Python 3",
   "language": "python",
   "name": "python3"
  },
  "language_info": {
   "codemirror_mode": {
    "name": "ipython",
    "version": 3
   },
   "file_extension": ".py",
   "mimetype": "text/x-python",
   "name": "python",
   "nbconvert_exporter": "python",
   "pygments_lexer": "ipython3",
   "version": "3.7.3"
  }
 },
 "nbformat": 4,
 "nbformat_minor": 2
}
