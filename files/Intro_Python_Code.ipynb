{
 "cells": [
  {
   "cell_type": "markdown",
   "id": "3c4dde76",
   "metadata": {},
   "source": [
    "# Introduction to Python Workshop"
   ]
  },
  {
   "cell_type": "markdown",
   "id": "2b3d6456",
   "metadata": {},
   "source": [
    "## __Variables__"
   ]
  },
  {
   "cell_type": "code",
   "execution_count": null,
   "id": "20bcecd3",
   "metadata": {},
   "outputs": [],
   "source": [
    "x = 5\n",
    "name = \"Python for Beginners\"\n",
    "print(x)\n",
    "print(name)"
   ]
  },
  {
   "cell_type": "markdown",
   "id": "633082fa",
   "metadata": {},
   "source": [
    "### Reassignment of Variables"
   ]
  },
  {
   "cell_type": "code",
   "execution_count": null,
   "id": "fbcdf129",
   "metadata": {},
   "outputs": [],
   "source": [
    "\n",
    "x = \"Python for Beginners\"\n",
    "name = 5\n",
    "print(x)\n",
    "print(name)"
   ]
  },
  {
   "cell_type": "markdown",
   "id": "00beff7e",
   "metadata": {},
   "source": [
    "## Conditional Statements and Flow control"
   ]
  },
  {
   "cell_type": "markdown",
   "id": "b767f51e",
   "metadata": {},
   "source": [
    "### IF Statement"
   ]
  },
  {
   "cell_type": "code",
   "execution_count": null,
   "id": "0fbba732",
   "metadata": {},
   "outputs": [],
   "source": [
    "lis1 = ['good', 'better', 'best', 'bad', 'worse']\n",
    "\n",
    "if 'good' in lis1:\n",
    "    print('Everything is good')\n",
    "    \n",
    "if 'no' in lis1:\n",
    "    print('Nothing')\n",
    "print('Done')\n",
    "        "
   ]
  },
  {
   "cell_type": "markdown",
   "id": "3bec852d",
   "metadata": {},
   "source": [
    "### ELIF Statement"
   ]
  },
  {
   "cell_type": "code",
   "execution_count": null,
   "id": "18b179c9",
   "metadata": {},
   "outputs": [],
   "source": [
    "name = 'xyz'\n",
    "\n",
    "if name == 'Jo':\n",
    "    print('Hi Jo')\n",
    "elif name == 'Mark':\n",
    "    print('Hi Mark')\n",
    "elif name == 'Frank':\n",
    "    print('Hi Frank')\n",
    "else:\n",
    "    print('No match found')"
   ]
  },
  {
   "cell_type": "markdown",
   "id": "2dd61668",
   "metadata": {},
   "source": [
    "## While Loop"
   ]
  },
  {
   "cell_type": "code",
   "execution_count": null,
   "id": "dfa74bbd",
   "metadata": {},
   "outputs": [],
   "source": [
    "i = 1\n",
    "\n",
    "while i < 6:\n",
    "    print(i)\n",
    "    i += 1"
   ]
  },
  {
   "cell_type": "markdown",
   "id": "be2bfa6a",
   "metadata": {},
   "source": [
    "### Break Statement"
   ]
  },
  {
   "cell_type": "code",
   "execution_count": null,
   "id": "d6ea8092",
   "metadata": {},
   "outputs": [],
   "source": [
    "i = 1\n",
    "while i < 6:\n",
    "    if i == 3:\n",
    "        break\n",
    "    print(i)\n",
    "    i += 1"
   ]
  },
  {
   "cell_type": "markdown",
   "id": "4a057585",
   "metadata": {},
   "source": [
    "### Continue"
   ]
  },
  {
   "cell_type": "code",
   "execution_count": null,
   "id": "96aa9f08",
   "metadata": {},
   "outputs": [],
   "source": [
    "\n",
    "i = 0\n",
    "while i < 6:\n",
    "    i += 1\n",
    "    if i == 3:\n",
    "        continue\n",
    "    print(i)"
   ]
  },
  {
   "cell_type": "markdown",
   "id": "3895f470",
   "metadata": {},
   "source": [
    "## For Loop"
   ]
  },
  {
   "cell_type": "code",
   "execution_count": null,
   "id": "83ca89e9",
   "metadata": {},
   "outputs": [],
   "source": [
    "workshops = [\"Digital\", \"Scholarship\", \"Hub\",2]\n",
    "for x in workshops:\n",
    "    print(x)"
   ]
  },
  {
   "cell_type": "markdown",
   "id": "94bf8a33",
   "metadata": {},
   "source": [
    "## Data Types"
   ]
  },
  {
   "cell_type": "markdown",
   "id": "c7e84f23",
   "metadata": {},
   "source": [
    "Python has the following data types built-in by default, in these categories:\n",
    "\n",
    "Numeric Types: int, float, complex\n",
    "\n",
    "Sequence Types: list, tuple, strings\n",
    "\n",
    "Mapping Type: dict\n",
    "\n",
    "Set Types: set\n",
    "\n",
    "Boolean Type: bool"
   ]
  },
  {
   "cell_type": "markdown",
   "id": "54180ae4",
   "metadata": {},
   "source": [
    "### Numeric Data Types"
   ]
  },
  {
   "cell_type": "code",
   "execution_count": null,
   "id": "6c9fd103",
   "metadata": {},
   "outputs": [],
   "source": [
    "x=3 # int datatype\n",
    "y=3.14 #float datatypes\n",
    "z=complex(3,4) #complex datatype\n",
    "print(z.real) # real part of the complex number\n",
    "print(z.imag) #imaginary part of the complex number"
   ]
  },
  {
   "cell_type": "markdown",
   "id": "318934fe",
   "metadata": {},
   "source": [
    "### Boolean Type"
   ]
  },
  {
   "cell_type": "code",
   "execution_count": null,
   "id": "6044e01a",
   "metadata": {},
   "outputs": [],
   "source": [
    "x= True\n",
    "y= False\n",
    "print(x)\n"
   ]
  },
  {
   "cell_type": "markdown",
   "id": "dee368ba",
   "metadata": {},
   "source": [
    "### Find the data type of a variable"
   ]
  },
  {
   "cell_type": "code",
   "execution_count": null,
   "id": "38d92a07",
   "metadata": {},
   "outputs": [],
   "source": [
    "x=\"Digital Scholorship Hub\"\n",
    "type(x)"
   ]
  },
  {
   "cell_type": "markdown",
   "id": "a4bee462",
   "metadata": {},
   "source": [
    "### Type-Casting"
   ]
  },
  {
   "cell_type": "code",
   "execution_count": null,
   "id": "e014f965",
   "metadata": {},
   "outputs": [],
   "source": [
    "a=str(13456)\n",
    "print(type(a))\n",
    "b=int(\"1234\")\n",
    "print(type(b))\n",
    "c=float(55)\n",
    "print(type(c))"
   ]
  },
  {
   "cell_type": "markdown",
   "id": "c6225107",
   "metadata": {},
   "source": [
    "## Operators"
   ]
  },
  {
   "cell_type": "markdown",
   "id": "10a801b2",
   "metadata": {},
   "source": [
    "### Arithmetic Operators"
   ]
  },
  {
   "cell_type": "code",
   "execution_count": null,
   "id": "e1fb456e",
   "metadata": {},
   "outputs": [],
   "source": [
    "x=3\n",
    "y=4\n",
    "\n",
    "print(x+y)    # print the sum of x and y\n",
    "print(x-y)    # subtraction\n",
    "print(x*y)    # multiplication\n",
    "print(x/y)    # simple division\n",
    "print(x**y)   # print exponential product(x to the power of y)\n",
    "print(x//y)   # floor division\n",
    "print(x%y)    # modulus"
   ]
  },
  {
   "cell_type": "markdown",
   "id": "f63f44ae",
   "metadata": {},
   "source": [
    "### Assignment Operators"
   ]
  },
  {
   "cell_type": "code",
   "execution_count": null,
   "id": "aebc9f33",
   "metadata": {},
   "outputs": [],
   "source": [
    "x = 6\n",
    "x += 2 #similar to x = x + 2\n",
    "print(x)\n",
    "x -= 2 #similar to x = x - 2\n",
    "print(x)\n",
    "x *= 2 #similar to x = x * 2\n",
    "print(x)\n",
    "x /= 2 #similar to x = x / 2\n",
    "print(x)\n",
    "x %= 2 #similar to x = x % 2\n",
    "print(x)\n",
    "x //= 2 #similar to x = x // 2\n",
    "print(x)\n",
    "x **= 2 #similar to x = x ** 2\n",
    "print(x)\n",
    "x=6\n",
    "x &= 2 #similar to x = x & 2\n",
    "print(x)\n",
    "x=6\n",
    "print(x)\n",
    "x |= 2 #similar to x = x | 2\n",
    "print(x)\n",
    "x ^= 2 #similar to x = x ^ 2\n",
    "print(x)\n",
    "x >>= 2 #similar to x = x >> 2\n",
    "print(x)\n",
    "x <<= 2 #similar to x = x << 2\n",
    "print(x)"
   ]
  },
  {
   "cell_type": "markdown",
   "id": "f0d60fe0",
   "metadata": {},
   "source": [
    "### Comparision Operators"
   ]
  },
  {
   "cell_type": "code",
   "execution_count": null,
   "id": "6ae9cb08",
   "metadata": {},
   "outputs": [],
   "source": [
    "x=5\n",
    "y=5\n",
    "print(x == y)\t# checks if x is equal to y\n",
    "print(x != y) # checks if x is not equal to y\t\n",
    "print(x > y) # checks if x is greayer than y\t\n",
    "print(x < y) # checks if x is less than y\t\n",
    "print(x >= y) # checks if x is greater that or equal to y\n",
    "print(x <= y) # checks if x is less than or equal to y."
   ]
  },
  {
   "cell_type": "markdown",
   "id": "f9bb6827",
   "metadata": {},
   "source": [
    "### Logical Operators"
   ]
  },
  {
   "cell_type": "code",
   "execution_count": null,
   "id": "c77d68fe",
   "metadata": {},
   "outputs": [],
   "source": [
    "x=5\n",
    "y=10\n",
    "print(x==5 and y==10) # performs AND operation on the results of the comparision operators(True and True)\n",
    "print(x==5 or y!=10) # performs OR operation on the results of the comparision operators(True or False)\n",
    "print(not(x==5)) # reverses the result of the comparision operation."
   ]
  },
  {
   "cell_type": "markdown",
   "id": "71b57dcf",
   "metadata": {},
   "source": [
    "### Identity Operators"
   ]
  },
  {
   "cell_type": "code",
   "execution_count": null,
   "id": "71b8eb22",
   "metadata": {},
   "outputs": [],
   "source": [
    "x=[1,2,3]\n",
    "y=[1,2,3]\n",
    "z=y\n",
    "print(z is y) # returns True as z is the same object as y\n",
    "print(z is x) # returns False as z is not the same object as x\n",
    "print(z is not x) # returns True as z is not the same object as x"
   ]
  },
  {
   "cell_type": "markdown",
   "id": "a6c874a8",
   "metadata": {},
   "source": [
    "### Membership Operators"
   ]
  },
  {
   "cell_type": "code",
   "execution_count": null,
   "id": "adc54181",
   "metadata": {},
   "outputs": [],
   "source": [
    "x=[\"Digital\",\"Scholoarship\",\"Hub\"]\n",
    "print(\"Hub\" in x)# prints True, as \"Hub\" is in list x\n",
    "print(2 not in x)# prints True, as 2 is not in list x"
   ]
  },
  {
   "cell_type": "markdown",
   "id": "97da2bed",
   "metadata": {},
   "source": [
    "### Bitwise Operators"
   ]
  },
  {
   "cell_type": "code",
   "execution_count": null,
   "id": "e6e7465d",
   "metadata": {},
   "outputs": [],
   "source": [
    "a = 5\n",
    "b = 6\n",
    " \n",
    "print( a & b) # Print bitwise AND operation\n",
    "print( a | b) # Print bitwise OR operation\n",
    "print( ~a) # Print bitwise NOT operation\n",
    "print( a ^ b) # print bitwise XOR operation\n",
    "\n",
    "\n",
    "a = 1\n",
    "print( a >> 1) # print bitwise right shift operator\n",
    "print(a << 1) # print bitwise left shift operator"
   ]
  },
  {
   "cell_type": "markdown",
   "id": "bb4c6954",
   "metadata": {},
   "source": [
    "## Functions"
   ]
  },
  {
   "cell_type": "markdown",
   "id": "551ae704",
   "metadata": {},
   "source": [
    "### create a function"
   ]
  },
  {
   "cell_type": "code",
   "execution_count": null,
   "id": "04ee3572",
   "metadata": {},
   "outputs": [],
   "source": [
    "def my_function():\n",
    "    print(\"Hello from a function\")"
   ]
  },
  {
   "cell_type": "markdown",
   "id": "d9efc6ae",
   "metadata": {},
   "source": [
    "### Call a Function"
   ]
  },
  {
   "cell_type": "code",
   "execution_count": null,
   "id": "1b19677e",
   "metadata": {},
   "outputs": [],
   "source": [
    "def my_function():\n",
    "    print(\"Hello from a function\")\n",
    "\n",
    "my_function()"
   ]
  },
  {
   "cell_type": "markdown",
   "id": "87ba8356",
   "metadata": {},
   "source": [
    "### Arguments"
   ]
  },
  {
   "cell_type": "code",
   "execution_count": null,
   "id": "cfca046b",
   "metadata": {},
   "outputs": [],
   "source": [
    "def my_function(fname):\n",
    "    print(fname + \" Refsnes\")\n",
    "\n",
    "my_function(\"Emil\")\n",
    "my_function(\"Tobias\")\n",
    "my_function(\"Linus\")"
   ]
  },
  {
   "cell_type": "markdown",
   "id": "92a07d7c",
   "metadata": {},
   "source": [
    "## Lambdas"
   ]
  },
  {
   "cell_type": "code",
   "execution_count": null,
   "id": "23863155",
   "metadata": {},
   "outputs": [],
   "source": [
    "x = lambda a : a + 10\n",
    "print(x(5))"
   ]
  },
  {
   "cell_type": "markdown",
   "id": "ee89d6c9",
   "metadata": {},
   "source": [
    "## String Manipulation"
   ]
  },
  {
   "cell_type": "markdown",
   "id": "d438e9f6",
   "metadata": {},
   "source": [
    "### Creation"
   ]
  },
  {
   "cell_type": "code",
   "execution_count": null,
   "id": "f8d26f7f",
   "metadata": {},
   "outputs": [],
   "source": [
    "s= \"Digital Scholorship Hub 2\"\n",
    "print(s)\n",
    "\n",
    "s1=str(12345)\n",
    "print(s1)"
   ]
  },
  {
   "cell_type": "markdown",
   "id": "339246b2",
   "metadata": {},
   "source": [
    "### Accessing"
   ]
  },
  {
   "cell_type": "code",
   "execution_count": null,
   "id": "73cfa8ca",
   "metadata": {},
   "outputs": [],
   "source": [
    "a=s[2]\n",
    "print(a)"
   ]
  },
  {
   "cell_type": "markdown",
   "id": "76a0a739",
   "metadata": {},
   "source": [
    "### Length of a string"
   ]
  },
  {
   "cell_type": "code",
   "execution_count": null,
   "id": "29078ece",
   "metadata": {},
   "outputs": [],
   "source": [
    "print(len(s))"
   ]
  },
  {
   "cell_type": "markdown",
   "id": "74df5c6a",
   "metadata": {},
   "source": [
    "### Search and index:"
   ]
  },
  {
   "cell_type": "code",
   "execution_count": null,
   "id": "3513d0c9",
   "metadata": {},
   "outputs": [],
   "source": [
    "print(s.find(\"H\"))\n",
    "print(s.index(\"Hub\"))"
   ]
  },
  {
   "cell_type": "markdown",
   "id": "a9f54a35",
   "metadata": {},
   "source": [
    "### Count"
   ]
  },
  {
   "cell_type": "code",
   "execution_count": null,
   "id": "f0361d6f",
   "metadata": {},
   "outputs": [],
   "source": [
    "print(s.count(\" \"))"
   ]
  },
  {
   "cell_type": "markdown",
   "id": "becf7f3c",
   "metadata": {},
   "source": [
    "### Slicing"
   ]
  },
  {
   "cell_type": "markdown",
   "id": "2a03fc97",
   "metadata": {},
   "source": [
    ">NOTE:\n",
    ">\n",
    "> s[a:b] # items start through end-1\n",
    ">\n",
    "> s[a:] # items start through the rest of the list\n",
    ">\n",
    "> s[:b] # items from the beginning through end-1\n",
    ">\n",
    "> s[:] # a copy of the whole list"
   ]
  },
  {
   "cell_type": "code",
   "execution_count": null,
   "id": "100c9512",
   "metadata": {},
   "outputs": [],
   "source": [
    "print(s[3:6])"
   ]
  },
  {
   "cell_type": "markdown",
   "id": "19379c50",
   "metadata": {},
   "source": [
    "### Replace"
   ]
  },
  {
   "cell_type": "code",
   "execution_count": null,
   "id": "6557d4e5",
   "metadata": {},
   "outputs": [],
   "source": [
    "s2= \"Math and Science\"\n",
    "\n",
    "\n",
    "s.replace(\"Science\",\"Statistics\") # replace Science with Statistics.\n",
    "print(s)"
   ]
  },
  {
   "cell_type": "markdown",
   "id": "ff69e34d",
   "metadata": {},
   "source": [
    "### Upper case and Lower case"
   ]
  },
  {
   "cell_type": "code",
   "execution_count": null,
   "id": "38e6eaa5",
   "metadata": {},
   "outputs": [],
   "source": [
    "print(s.upper()) # print the string in upper case\n",
    "\n",
    "print(s.lower()) # print the string in lower case\n",
    "\n",
    "print(s.title()) # print the string in title case\n",
    "\n",
    "print(s.swapcase()) # swaps the case of the string."
   ]
  },
  {
   "cell_type": "markdown",
   "id": "6b439d16",
   "metadata": {},
   "source": [
    "### Reversal of a string"
   ]
  },
  {
   "cell_type": "code",
   "execution_count": null,
   "id": "cecac1ca",
   "metadata": {},
   "outputs": [],
   "source": [
    "print(''.join(reversed(s)))"
   ]
  },
  {
   "cell_type": "markdown",
   "id": "debf7f98",
   "metadata": {},
   "source": [
    "### Stripping"
   ]
  },
  {
   "cell_type": "code",
   "execution_count": null,
   "id": "00e5ab35",
   "metadata": {},
   "outputs": [],
   "source": [
    "s=\" this is an example \"\n",
    "print(s.strip())\n",
    "print(s.lstrip())\n",
    "print(s.rstrip())"
   ]
  },
  {
   "cell_type": "markdown",
   "id": "ec3c66c2",
   "metadata": {},
   "source": [
    "### Concatenation"
   ]
  },
  {
   "cell_type": "code",
   "execution_count": null,
   "id": "c154033c",
   "metadata": {},
   "outputs": [],
   "source": [
    "s3=\"Hello\"\n",
    "s4=\"World\"\n",
    "\n",
    "print(s3+s4)"
   ]
  },
  {
   "cell_type": "markdown",
   "id": "3f32d817",
   "metadata": {},
   "source": [
    "### Join"
   ]
  },
  {
   "cell_type": "code",
   "execution_count": null,
   "id": "6cb68237",
   "metadata": {},
   "outputs": [],
   "source": [
    "l=[\"hello\",\"world\"]\n",
    "print(\" \".join(l)) # adds a space between each character."
   ]
  },
  {
   "cell_type": "markdown",
   "id": "1aea2335",
   "metadata": {},
   "source": [
    "### Testing"
   ]
  },
  {
   "cell_type": "code",
   "execution_count": null,
   "id": "0ec3c17d",
   "metadata": {},
   "outputs": [],
   "source": [
    "s = \"Digital Scholorship Hub\"\n",
    "\n",
    "print(s.isalnum()) #checks if all the characters are alphanumeric \n",
    "\n",
    "print(s.isalpha()) #checks if all the characters are alphabetic\n",
    "\n",
    "print(s.isdigit()) #checks if string contains digits\n",
    "\n",
    "print(s.istitle()) #checks if string contains title words\n",
    "\n",
    "print(s.isupper()) #checks if string contains upper case\n",
    "\n",
    "print(s.islower()) #checks if string contains lower case\n",
    "\n",
    "print(s.isspace()) #checks if string contains spaces\n",
    "\n",
    "print(s.endswith('d')) #checks if string endswith a d\n",
    "\n",
    "print(s.startswith('H')) #checks if string startswith H"
   ]
  },
  {
   "cell_type": "markdown",
   "id": "7e54dbb3",
   "metadata": {},
   "source": [
    "## Lists"
   ]
  },
  {
   "cell_type": "markdown",
   "id": "597aad43",
   "metadata": {},
   "source": [
    "### Accessing elements of a list"
   ]
  },
  {
   "cell_type": "code",
   "execution_count": null,
   "id": "6a0b815c",
   "metadata": {},
   "outputs": [],
   "source": [
    "list1=[12, 15.5, 'abcd', 'xyz', 34, 256.8]\n",
    "\n",
    "print(list1)        #Prints list\n",
    "\n",
    "print(list1[0])     #Prints 1st element in the list\n",
    "\n",
    "print(list1[1:5])   #Prints 2nd to 5th elements in the list\n",
    "\n",
    "print(list1[4:])    #Prints all the elements after 4\n",
    "\n",
    "print(list1[-1])    #Prints the last element"
   ]
  },
  {
   "cell_type": "markdown",
   "id": "69749cd5",
   "metadata": {},
   "source": [
    "### Removing elements from a list"
   ]
  },
  {
   "cell_type": "code",
   "execution_count": null,
   "id": "93ab4df9",
   "metadata": {},
   "outputs": [],
   "source": [
    "lis4=['Lovely day', 45.6, 22, 'Good Night', 'Afternoon', 56, 29, 30, 22]\n",
    "\n",
    "del(lis4[4])         #Delets the 5th element in the list \n",
    "print(lis4)  \n",
    "\n",
    "lis4.remove(22)      #Removes the element 22. Remove command removes the first matching element\n",
    "print(lis4)\n",
    "\n",
    "lis4.pop(1)          #Pops the element present on the first index\n",
    "print(lis4)"
   ]
  },
  {
   "cell_type": "markdown",
   "id": "d2dbb357",
   "metadata": {},
   "source": [
    "### Other operations with list"
   ]
  },
  {
   "cell_type": "code",
   "execution_count": null,
   "id": "1eb0471d",
   "metadata": {},
   "outputs": [],
   "source": [
    "lis1=[100,99,98,97]\n",
    "lis2=['abc','xyz',88,28,34,'ijk']\n",
    "\n",
    "print(len(lis1))     # The len() function is used to get the length of the list\n",
    "lis3= lis1+lis2      #Adding/Concatenating two lists\n",
    "print(lis3)\n",
    "print(lis3[-3:])     #Prints last 3 elements"
   ]
  },
  {
   "cell_type": "markdown",
   "id": "9727a8a1",
   "metadata": {},
   "source": [
    "### Checking if an element is present in the list"
   ]
  },
  {
   "cell_type": "code",
   "execution_count": null,
   "id": "4e296fd9",
   "metadata": {},
   "outputs": [],
   "source": [
    "\n",
    "lis5=['Illinois','Indiana','Texas','Florida']\n",
    "\n",
    "'Illinois' in lis5   #The 'in' statement checks whether certain element is present in the list or not. If the element is present it returns True else False\n",
    "'Arizona' in lis5\n",
    "'Arizona' not in lis5 #Similar to 'in' statement"
   ]
  },
  {
   "cell_type": "markdown",
   "id": "580aa2e8",
   "metadata": {},
   "source": [
    "### Min Max Function"
   ]
  },
  {
   "cell_type": "code",
   "execution_count": null,
   "id": "81995385",
   "metadata": {},
   "outputs": [],
   "source": [
    "\n",
    "lis6=[1,34,73,67,99,22,3,4]\n",
    "\n",
    "print(min(lis6))\n",
    "print(max(lis6))"
   ]
  },
  {
   "cell_type": "markdown",
   "id": "eee0edb5",
   "metadata": {},
   "source": [
    "### Adding value to the list"
   ]
  },
  {
   "cell_type": "code",
   "execution_count": null,
   "id": "93e1a2e8",
   "metadata": {},
   "outputs": [],
   "source": [
    "lis6.append(56)     #Appends only one element at the end of the list\n",
    "print(lis6)\n",
    "lis6.extend([11,2,33]) #Appends multiple elements at the end of the list\n",
    "print(lis6)\n",
    "\n",
    "lis6.insert(0,90)   #Inserts element at the mentioned index\n",
    "print(lis6)"
   ]
  },
  {
   "cell_type": "markdown",
   "id": "25bb18f1",
   "metadata": {},
   "source": [
    "### Sorting elements in a list"
   ]
  },
  {
   "cell_type": "code",
   "execution_count": null,
   "id": "ed4dc616",
   "metadata": {},
   "outputs": [],
   "source": [
    "lis7=[-6,1,-1,-5,3,6,7,8,22,5,4]\n",
    "\n",
    "lis7.sort()         #Sorts elements in ascending order\n",
    "\n",
    "print(lis7)\n",
    "\n",
    "#Sorted function\n",
    "\n",
    "lis8=[-3,11,2,3,8,4,1,5,-5,-8,-10,10]\n",
    "\n",
    "print(sorted(lis8)) #Prints the sorted list\n",
    "\n",
    "print(lis8)         #Prints the original list. Sorted function doesnot change the original list whereas sort function does"
   ]
  },
  {
   "cell_type": "markdown",
   "id": "0a65d73e",
   "metadata": {},
   "source": [
    "### Reassigning a list"
   ]
  },
  {
   "cell_type": "code",
   "execution_count": null,
   "id": "336db380",
   "metadata": {},
   "outputs": [],
   "source": [
    "print(lis8)\n",
    "\n",
    "lis8[0]=100         #Assigns index 0 as 100\n",
    "\n",
    "print(lis8)"
   ]
  },
  {
   "cell_type": "markdown",
   "id": "c5c12b12",
   "metadata": {},
   "source": [
    "## Tuples"
   ]
  },
  {
   "cell_type": "code",
   "execution_count": null,
   "id": "10d2e488",
   "metadata": {},
   "outputs": [],
   "source": [
    "tup=('asdfgh', 16, 78.9, 'mnbvcxz')\n",
    "\n",
    "print(tup)\n",
    "\n",
    "print(tup[0])\n",
    "\n",
    "print(tup[1:3])"
   ]
  },
  {
   "cell_type": "markdown",
   "id": "558aa480",
   "metadata": {},
   "source": [
    "## Sets"
   ]
  },
  {
   "cell_type": "code",
   "execution_count": null,
   "id": "43af246a",
   "metadata": {},
   "outputs": [],
   "source": [
    "set_example={\"Digital\",\"Scholorship\",\"Hub\",2}\n",
    "print(set_example)"
   ]
  },
  {
   "cell_type": "markdown",
   "id": "5d257de2",
   "metadata": {},
   "source": [
    "## Dictionaries"
   ]
  },
  {
   "cell_type": "code",
   "execution_count": null,
   "id": "078c1ee8",
   "metadata": {},
   "outputs": [],
   "source": [
    "demo1={'a':10,'b':20,'c':30,'d':40}\n",
    "\n",
    "print(demo1)"
   ]
  },
  {
   "cell_type": "markdown",
   "id": "be56c023",
   "metadata": {},
   "source": [
    "### Accessing elements in a dictionary"
   ]
  },
  {
   "cell_type": "code",
   "execution_count": null,
   "id": "e3e02a87",
   "metadata": {},
   "outputs": [],
   "source": [
    "print(demo1['a'])\n",
    "\n",
    "k= demo1.keys()\n",
    "print(k)"
   ]
  },
  {
   "cell_type": "markdown",
   "id": "da58c5fb",
   "metadata": {},
   "source": [
    "### Inserting/changing items in a Dictionary"
   ]
  },
  {
   "cell_type": "code",
   "execution_count": null,
   "id": "6c6256f4",
   "metadata": {},
   "outputs": [],
   "source": [
    "demo1['a']=50\n",
    "demo1.update({'a':10})\n",
    "\n",
    "demo1['e']=50\n",
    "demo1.update({'f':60,'g':70})"
   ]
  },
  {
   "cell_type": "markdown",
   "id": "12b40d78",
   "metadata": {},
   "source": [
    "### Copying a dictionary"
   ]
  },
  {
   "cell_type": "code",
   "execution_count": null,
   "id": "afa751c3",
   "metadata": {},
   "outputs": [],
   "source": [
    "demo2=demo1.copy()\n",
    "demo3=dict(demo1)"
   ]
  },
  {
   "cell_type": "markdown",
   "id": "7a4747ee",
   "metadata": {},
   "source": [
    "### Deletion in Dictionaries"
   ]
  },
  {
   "cell_type": "code",
   "execution_count": null,
   "id": "37440328",
   "metadata": {},
   "outputs": [],
   "source": [
    "#We use the pop() method and the del keyword to delete elements in dictionaries. \n",
    "demo1.pop('g')\n",
    "del demo1['f']\n",
    "\n",
    "# the del keyword can delete the dictionary completely:\n",
    "\n",
    "del demo1\n",
    "#print(demo1)\n",
    "\n",
    "# The clear() method is used to empty the dictionary.\n",
    "demo3.clear()"
   ]
  },
  {
   "cell_type": "markdown",
   "id": "0e6969e9",
   "metadata": {},
   "source": [
    "### Nested dictionaries"
   ]
  },
  {
   "cell_type": "code",
   "execution_count": null,
   "id": "0f51c8cb",
   "metadata": {},
   "outputs": [],
   "source": [
    "demo4 = {\n",
    "  \"letters\" : {\n",
    "    \"a\" : \"1\",\n",
    "    \"b\" : 2\n",
    "  },\n",
    "  \"capital_letters\" : {\n",
    "    \"A\" : \"1\",\n",
    "    \"B\" : 2\n",
    "  },\n",
    "}\n",
    "# or we can also do the following:\n",
    "\n",
    "letters = {\n",
    "  \"a\" : \"1\",\n",
    "  \"b\" : 2\n",
    "}\n",
    "capital_letters = {\n",
    "  \"A\" : \"1\",\n",
    "  \"B\" : 2\n",
    "}\n",
    "\n",
    "\n",
    "demo5 = {\n",
    "  \"letters\" : letters,\n",
    "  \"capital_letters\" : capital_letters\n",
    "}\n",
    "print(demo5)"
   ]
  },
  {
   "cell_type": "code",
   "execution_count": null,
   "id": "4dbb2ced",
   "metadata": {},
   "outputs": [],
   "source": []
  }
 ],
 "metadata": {
  "kernelspec": {
   "display_name": "Python 3",
   "language": "python",
   "name": "python3"
  },
  "language_info": {
   "codemirror_mode": {
    "name": "ipython",
    "version": 3
   },
   "file_extension": ".py",
   "mimetype": "text/x-python",
   "name": "python",
   "nbconvert_exporter": "python",
   "pygments_lexer": "ipython3",
   "version": "3.8.8"
  }
 },
 "nbformat": 4,
 "nbformat_minor": 5
}
